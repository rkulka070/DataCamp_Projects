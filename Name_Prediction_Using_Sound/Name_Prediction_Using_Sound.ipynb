{
 "cells": [
  {
   "cell_type": "markdown",
   "metadata": {
    "dc": {
     "key": "3"
    },
    "deletable": false,
    "editable": false,
    "run_control": {
     "frozen": true
    },
    "tags": [
     "context"
    ]
   },
   "source": [
    "## 1. Sound it out!\n",
    "<p>Grey and Gray. Colour and Color. Words like these have been the cause of many heated arguments between Brits and Americans. Accents (and jokes) aside, there are many words that are pronounced the same way but have different spellings. While it is easy for us to realize their equivalence, basic programming commands will fail to equate such two strings. </p>\n",
    "<p>More extreme than word spellings are names because people have more flexibility in choosing to spell a name in a certain way. To some extent, tradition sometimes governs the way a name is spelled, which limits the number of variations of any given English name. But if we consider global names and their associated English spellings, you can only imagine how many ways they can be spelled out. </p>\n",
    "<p>One way to tackle this challenge is to write a program that checks if two strings sound the same, instead of checking for equivalence in spellings. We'll do that here using fuzzy name matching.</p>"
   ]
  },
  {
   "cell_type": "code",
   "execution_count": 1,
   "metadata": {
    "collapsed": false,
    "dc": {
     "key": "3"
    },
    "tags": [
     "sample_code"
    ]
   },
   "outputs": [
    {
     "name": "stdout",
     "output_type": "stream",
     "text": [
      "CALAR\n",
      "CALAR\n"
     ]
    }
   ],
   "source": [
    "# Importing the fuzzy package\n",
    "import fuzzy\n",
    "import numpy as np\n",
    "\n",
    "# Exploring the output of fuzzy.nysiis\n",
    "print(fuzzy.nysiis('colour'))\n",
    "\n",
    "# Testing equivalence of similar sounding words\n",
    "print(fuzzy.nysiis('color'))"
   ]
  },
  {
   "cell_type": "markdown",
   "metadata": {
    "dc": {
     "key": "10"
    },
    "deletable": false,
    "editable": false,
    "run_control": {
     "frozen": true
    },
    "tags": [
     "context"
    ]
   },
   "source": [
    "## 2. Authoring the authors\n",
    "<p>The New York Times puts out a weekly list of best-selling books from different genres, and which has been published since the 1930’s.  We’ll focus on Children’s Picture Books, and analyze the gender distribution of authors to see if there have been changes over time. We'll begin by reading in the data on the best selling authors from 2008 to 2017.</p>"
   ]
  },
  {
   "cell_type": "code",
   "execution_count": 2,
   "metadata": {
    "collapsed": false,
    "dc": {
     "key": "10"
    },
    "tags": [
     "sample_code"
    ]
   },
   "outputs": [
    {
     "data": {
      "text/html": [
       "<div>\n",
       "<table border=\"1\" class=\"dataframe\">\n",
       "  <thead>\n",
       "    <tr style=\"text-align: right;\">\n",
       "      <th></th>\n",
       "      <th>Year</th>\n",
       "      <th>Book Title</th>\n",
       "      <th>Author</th>\n",
       "      <th>Besteller this year</th>\n",
       "      <th>first_name</th>\n",
       "    </tr>\n",
       "  </thead>\n",
       "  <tbody>\n",
       "    <tr>\n",
       "      <th>0</th>\n",
       "      <td>2017</td>\n",
       "      <td>DRAGONS LOVE TACOS</td>\n",
       "      <td>Adam Rubin</td>\n",
       "      <td>49</td>\n",
       "      <td>Adam</td>\n",
       "    </tr>\n",
       "    <tr>\n",
       "      <th>1</th>\n",
       "      <td>2017</td>\n",
       "      <td>THE WONDERFUL THINGS YOU WILL BE</td>\n",
       "      <td>Emily Winfield Martin</td>\n",
       "      <td>48</td>\n",
       "      <td>Emily</td>\n",
       "    </tr>\n",
       "    <tr>\n",
       "      <th>2</th>\n",
       "      <td>2017</td>\n",
       "      <td>THE DAY THE CRAYONS QUIT</td>\n",
       "      <td>Drew Daywalt</td>\n",
       "      <td>44</td>\n",
       "      <td>Drew</td>\n",
       "    </tr>\n",
       "    <tr>\n",
       "      <th>3</th>\n",
       "      <td>2017</td>\n",
       "      <td>ROSIE REVERE, ENGINEER</td>\n",
       "      <td>Andrea Beaty</td>\n",
       "      <td>38</td>\n",
       "      <td>Andrea</td>\n",
       "    </tr>\n",
       "    <tr>\n",
       "      <th>4</th>\n",
       "      <td>2017</td>\n",
       "      <td>ADA TWIST, SCIENTIST</td>\n",
       "      <td>Andrea Beaty</td>\n",
       "      <td>28</td>\n",
       "      <td>Andrea</td>\n",
       "    </tr>\n",
       "  </tbody>\n",
       "</table>\n",
       "</div>"
      ],
      "text/plain": [
       "   Year                        Book Title                 Author  \\\n",
       "0  2017                DRAGONS LOVE TACOS             Adam Rubin   \n",
       "1  2017  THE WONDERFUL THINGS YOU WILL BE  Emily Winfield Martin   \n",
       "2  2017          THE DAY THE CRAYONS QUIT           Drew Daywalt   \n",
       "3  2017            ROSIE REVERE, ENGINEER           Andrea Beaty   \n",
       "4  2017              ADA TWIST, SCIENTIST           Andrea Beaty   \n",
       "\n",
       "   Besteller this year first_name  \n",
       "0                   49       Adam  \n",
       "1                   48      Emily  \n",
       "2                   44       Drew  \n",
       "3                   38     Andrea  \n",
       "4                   28     Andrea  "
      ]
     },
     "execution_count": 2,
     "metadata": {},
     "output_type": "execute_result"
    }
   ],
   "source": [
    "# Importing the pandas module\n",
    "import pandas as pd\n",
    "\n",
    "# Reading in datasets/nytkids_yearly.csv, which is semicolon delimited.\n",
    "author_df=pd.read_csv(\"datasets/nytkids_yearly.csv\",delimiter=';')\n",
    "\n",
    "# Looping through author_df['Author'] to extract the authors first names\n",
    "first_name = []\n",
    "for name in author_df['Author']:\n",
    "    fname=name.split()\n",
    "    first_name.append(fname[0])\n",
    "    \n",
    "# Adding first_name as a column to author_df\n",
    "author_df['first_name']=first_name\n",
    "\n",
    "# Checking out the first few rows of author_df\n",
    "author_df.head()"
   ]
  },
  {
   "cell_type": "markdown",
   "metadata": {
    "dc": {
     "key": "17"
    },
    "deletable": false,
    "editable": false,
    "run_control": {
     "frozen": true
    },
    "tags": [
     "context"
    ]
   },
   "source": [
    "## 3. Let's bring on the phonics\n",
    "<p>When we were young children, we were taught to read using phonics; sounding out the letters that compose words. So let's relive history and do that again, but using python this time. We will now create a new column or list that contains the phonetic equivalent of every first name that we just extracted. </p>\n",
    "<p>To make sure we're on the right track, let's compare the number of unique values in the <code>first_name</code> column and the number of unique values in the nysiis coded column. As a rule of thumb, the number of unique nysiis first names should be less than or equal to the number of actual first names.</p>"
   ]
  },
  {
   "cell_type": "code",
   "execution_count": 3,
   "metadata": {
    "collapsed": false,
    "dc": {
     "key": "17"
    },
    "tags": [
     "sample_code"
    ]
   },
   "outputs": [
    {
     "name": "stdout",
     "output_type": "stream",
     "text": [
      "['Aaron' 'Adam' 'Ahmet' 'Ainsley' 'Al' 'Ame' 'Amy' 'Andrea' 'Anna'\n",
      " 'Antoine' 'Barack' 'Barb' 'Barbara' 'Beatrix' 'Benjamin' 'Berkeley'\n",
      " 'Beryl' 'Beth' 'Bill' 'Bonny' 'Brad' 'Brandon' 'Brendan' 'Brian' 'Buzz'\n",
      " 'Callista' 'Carl' 'Carmen' 'Caroline' 'Carson' 'Cathy' 'Charlie'\n",
      " 'Chelsea' 'Chris' 'Christopher' 'Clement' 'Cokie' 'Cynthia' 'Dan'\n",
      " 'Danica' 'David' 'Debbie' 'Deborah' 'Doreen' 'Drew' 'Ed' 'Elise' 'Eliza'\n",
      " 'Elle' 'Emily' 'Emma' 'Eric' 'Ferdinand' 'Gary' 'Glenn' 'Graeme' 'Greg'\n",
      " 'Herman' 'Herve' 'Hillary' 'Holly' 'Ian' 'Jacky' 'James' 'Jamie' 'Jan'\n",
      " 'Jane' 'Javaka' 'Jean' 'Jeff' 'Jennifer' 'Jenny' 'Jerry' 'Jimmy' 'Jo'\n",
      " 'Joan' 'John' 'Jon' 'Jonah' 'Joyce' 'Judy' 'Julia' 'Julian' 'Julianne'\n",
      " 'Julie' 'Kabir' 'Kareem' 'Karma' 'Kate' 'Katherine' 'Kathie' 'Keith'\n",
      " 'Kelly' 'Kevin' 'Kimberly' 'Kobi' 'Kristi' 'Laban' 'Lane' 'Laura'\n",
      " 'Laurie' 'Lemony' 'Lindsay' 'Liz' 'Lora' 'Loren' 'Lori' 'Louise' 'Lucy'\n",
      " 'Lynne' 'Mac' 'Malala' 'Marc' 'Margaret' 'Marion' 'Mark' 'Mary' 'Matt'\n",
      " 'Matthew' 'Maurice' 'Maya' 'Mem' 'Michael' 'Mike' 'Mo' 'Nancy' 'Neil'\n",
      " 'Nick' 'Nikki' 'Norton' 'Oliver' 'Olivier' 'Patricia' 'Patrick' 'Peter'\n",
      " 'Peyton' 'Pharrell' 'Philip' 'Pope' 'Queen' 'R.' 'Ree' 'Rob' 'Robert'\n",
      " 'Rufus' 'Ryan' 'Sandra' 'Sarah' 'Savannah' 'Sean' 'Shel' 'Sherman'\n",
      " 'Sherri' 'Simon' 'Sophia' 'Steve' 'Susan' 'Tad' 'Tedd' 'Theodor' 'Todd'\n",
      " 'Tomie' 'Toni' 'Tony' 'Vicki' 'Victoria' 'Walter' 'William' 'Ylvis'\n",
      " 'illustrated']\n",
      "['ADAN' 'AHNAT' 'AL' 'AN' 'ANDR' 'ANSLY' 'ANTAN' 'ANY' 'ARAN' 'B' 'BAL'\n",
      " 'BANJANAN' 'BANY' 'BARAC' 'BARAL' 'BARB' 'BARBAR' 'BARCALY' 'BATH'\n",
      " 'BATRAC' 'BRAD' 'BRAN' 'BRANDAN' 'CAB' 'CABAR' 'CACY' 'CAFAN' 'CALAST'\n",
      " 'CALS' 'CALY' 'CANBARLY' 'CANT' 'CARALAN' 'CARAN' 'CARL' 'CARLY' 'CARN'\n",
      " 'CARNAN' 'CARSAN' 'CAT' 'CATARAN' 'CATH' 'CATHY' 'CHR' 'CHRASTAFAR'\n",
      " 'CLANAD' 'CRAST' 'DABAR' 'DABY' 'DAN' 'DANAC' 'DARAN' 'DAVAD' 'DR' 'ED'\n",
      " 'EL' 'ELAS' 'EN' 'ENALY' 'ERAC' 'FALAP' 'FARAL' 'FARDANAD' 'GARY' 'GLAN'\n",
      " 'GRAG' 'GRAN' 'HALARY' 'HALY' 'HARNAN' 'HARV' 'IAN' 'ILASTRATAD' 'J'\n",
      " 'JACY' 'JADY' 'JAF' 'JAL' 'JALAN' 'JALY' 'JAN' 'JANAFAR' 'JANY' 'JARY'\n",
      " 'JAVAC' 'JYC' 'L' 'LABAN' 'LACY' 'LAN' 'LANANY' 'LANDSY' 'LAR' 'LARAN'\n",
      " 'LARY' 'LAS' 'M' 'MAC' 'MACAL' 'MALAL' 'MAN' 'MARAC' 'MARAN' 'MARC'\n",
      " 'MARGARAT' 'MARY' 'MAT' 'MATAW' 'MC' 'MY' 'NAC' 'NAL' 'NANCY' 'NARTAN'\n",
      " 'OLAVAR' 'PAP' 'PATAR' 'PATRAC' 'PYTAN' 'QAN' 'R' 'RAB' 'RABAD' 'RAF'\n",
      " 'RAN' 'RY' 'SAF' 'SAL' 'SAN' 'SANAN' 'SANDR' 'SAR' 'SARNAN' 'SASAN'\n",
      " 'SAVAN' 'STAF' 'TAD' 'TADAR' 'TAN' 'TANY' 'VAC' 'VACTAR' 'WALAN' 'WALTAR'\n",
      " 'YLV']\n"
     ]
    }
   ],
   "source": [
    "# Importing numpy\n",
    "import numpy as np\n",
    "\n",
    "# Looping through author's first names to create the nysiis (fuzzy) equivalent\n",
    "nysiis_name = []\n",
    "for name in author_df['first_name']:\n",
    "    nysiis_name.append(fuzzy.nysiis(name))\n",
    "    \n",
    "# Adding nysiis_name as a column to author_df\n",
    "author_df['nysiis_name']=nysiis_name\n",
    "\n",
    "# Printing out the difference between unique firstnames and unique nysiis_names:\n",
    "print(np.unique(author_df['first_name']))\n",
    "print(np.unique(nysiis_name))\n"
   ]
  },
  {
   "cell_type": "markdown",
   "metadata": {
    "dc": {
     "key": "24"
    },
    "deletable": false,
    "editable": false,
    "run_control": {
     "frozen": true
    },
    "tags": [
     "context"
    ]
   },
   "source": [
    "## 4. The inbetweeners\n",
    "<p>We'll use <code>babynames_nysiis.csv</code>, a dataset that is derived from <a href=\"https://www.ssa.gov/oact/babynames/limits.html\">the Social Security Administration’s baby name data</a>, to identify author genders. The dataset contains unique NYSIIS versions of baby names, and also includes the percentage of times the name appeared as a female name (<code>perc_female</code>) and the percentage of times it appeared as a male name (<code>perc_male</code>). </p>\n",
    "<p>We'll use this data to create a list of <code>gender</code>. Let's make the following simplifying assumption: For each name, if <code>perc_female</code> is greater than <code>perc_male</code> then assume the name is female, if <code>perc_female</code> is less than <code>perc_male</code> then assume it is a male name, and if the percentages are equal then it's a \"neutral\" name.</p>"
   ]
  },
  {
   "cell_type": "code",
   "execution_count": 4,
   "metadata": {
    "collapsed": false,
    "dc": {
     "key": "24"
    },
    "tags": [
     "sample_code"
    ]
   },
   "outputs": [
    {
     "data": {
      "text/html": [
       "<div>\n",
       "<table border=\"1\" class=\"dataframe\">\n",
       "  <thead>\n",
       "    <tr style=\"text-align: right;\">\n",
       "      <th></th>\n",
       "      <th>babynysiis</th>\n",
       "      <th>perc_female</th>\n",
       "      <th>perc_male</th>\n",
       "      <th>gender</th>\n",
       "    </tr>\n",
       "  </thead>\n",
       "  <tbody>\n",
       "    <tr>\n",
       "      <th>0</th>\n",
       "      <td>NaN</td>\n",
       "      <td>62.50</td>\n",
       "      <td>37.50</td>\n",
       "      <td>F</td>\n",
       "    </tr>\n",
       "    <tr>\n",
       "      <th>1</th>\n",
       "      <td>RAX</td>\n",
       "      <td>63.64</td>\n",
       "      <td>36.36</td>\n",
       "      <td>F</td>\n",
       "    </tr>\n",
       "    <tr>\n",
       "      <th>2</th>\n",
       "      <td>ESAR</td>\n",
       "      <td>44.44</td>\n",
       "      <td>55.56</td>\n",
       "      <td>M</td>\n",
       "    </tr>\n",
       "    <tr>\n",
       "      <th>3</th>\n",
       "      <td>DJANG</td>\n",
       "      <td>0.00</td>\n",
       "      <td>100.00</td>\n",
       "      <td>M</td>\n",
       "    </tr>\n",
       "    <tr>\n",
       "      <th>4</th>\n",
       "      <td>PARCAL</td>\n",
       "      <td>25.00</td>\n",
       "      <td>75.00</td>\n",
       "      <td>M</td>\n",
       "    </tr>\n",
       "  </tbody>\n",
       "</table>\n",
       "</div>"
      ],
      "text/plain": [
       "  babynysiis  perc_female  perc_male gender\n",
       "0        NaN        62.50      37.50      F\n",
       "1        RAX        63.64      36.36      F\n",
       "2       ESAR        44.44      55.56      M\n",
       "3      DJANG         0.00     100.00      M\n",
       "4     PARCAL        25.00      75.00      M"
      ]
     },
     "execution_count": 4,
     "metadata": {},
     "output_type": "execute_result"
    }
   ],
   "source": [
    "# Reading in datasets/babynames_nysiis.csv, which is semicolon delimited.\n",
    "babies_df =pd.read_csv(\"datasets/babynames_nysiis.csv\",delimiter=';')\n",
    "\n",
    "# Looping through babies_df to and filling up gender\n",
    "gender = []\n",
    "for index,row in babies_df.iterrows():\n",
    "    \n",
    "    if row['perc_female']>row['perc_male']:\n",
    "        gender.append('F')\n",
    "    if row['perc_female']<row['perc_male']:\n",
    "        gender.append('M')\n",
    "    if row['perc_female']==row['perc_male']:\n",
    "        gender.append('N')\n",
    "\n",
    "# Adding a gender column to babies_df\n",
    "babies_df['gender']=gender\n",
    "\n",
    "# Printing out the first few rows of babies_df\n",
    "babies_df.head()\n"
   ]
  },
  {
   "cell_type": "markdown",
   "metadata": {
    "dc": {
     "key": "31"
    },
    "deletable": false,
    "editable": false,
    "run_control": {
     "frozen": true
    },
    "tags": [
     "context"
    ]
   },
   "source": [
    "## 5. Playing matchmaker\n",
    "<p>Now that we have identified the likely genders of different names, let's find author genders by searching for each author's name in the <code>babies_df</code> DataFrame, and extracting the associated gender. </p>"
   ]
  },
  {
   "cell_type": "code",
   "execution_count": 5,
   "metadata": {
    "collapsed": false,
    "dc": {
     "key": "31"
    },
    "tags": [
     "sample_code"
    ]
   },
   "outputs": [
    {
     "data": {
      "text/plain": [
       "F          395\n",
       "M          191\n",
       "Unknown      9\n",
       "N            8\n",
       "Name: author_gender, dtype: int64"
      ]
     },
     "execution_count": 5,
     "metadata": {},
     "output_type": "execute_result"
    }
   ],
   "source": [
    "# This function returns the location of an element in a_list.\n",
    "# Where an item does not exist, it returns -1.\n",
    "def locate_in_list(a_list, element):\n",
    "    loc_of_name = a_list.index(element) if element in a_list else -1\n",
    "    return(loc_of_name)\n",
    "\n",
    "# Looping through author_df['nysiis_name'] and appending the gender of each\n",
    "# author to author_gender.\n",
    "author_gender = []\n",
    "a_list=list(babies_df['babynysiis'])\n",
    "\n",
    "for name in author_df['nysiis_name']:\n",
    "    index=locate_in_list(a_list, name)\n",
    "    if name not in a_list:\n",
    "        gender='Unknown'\n",
    "    else:\n",
    "        gender=babies_df['gender'][index]\n",
    "       \n",
    "    author_gender.append(gender)\n",
    "    \n",
    "# Adding author_gender to the author_df\n",
    "author_df['author_gender']=author_gender\n",
    "author_df['author_gender'].head()\n",
    "\n",
    "# Counting the author's genders\n",
    "author_df['author_gender'].value_counts()"
   ]
  },
  {
   "cell_type": "markdown",
   "metadata": {
    "dc": {
     "key": "38"
    },
    "deletable": false,
    "editable": false,
    "run_control": {
     "frozen": true
    },
    "tags": [
     "context"
    ]
   },
   "source": [
    "## 6. Tally up\n",
    "<p>From the results above see that there are more female authors on the New York Times best seller's list than male authors. Our dataset spans 2008 to 2017. Let's find out if there have been changes over time.</p>"
   ]
  },
  {
   "cell_type": "code",
   "execution_count": 6,
   "metadata": {
    "collapsed": false,
    "dc": {
     "key": "38"
    },
    "tags": [
     "sample_code"
    ]
   },
   "outputs": [
    {
     "name": "stdout",
     "output_type": "stream",
     "text": [
      "[[ 8 19 27 21 21 11 21 18 25 20]\n",
      " [15 45 48 51 46 51 34 30 32 43]\n",
      " [ 1  3  0  1  0  2  1  0  0  1]]\n"
     ]
    }
   ],
   "source": [
    "# Creating a list of unique years, sorted in ascending order.\n",
    "\n",
    "years = list(author_df['Year'].unique())\n",
    "years.sort()\n",
    "\n",
    "# Initializing lists\n",
    "males_by_yr = []\n",
    "females_by_yr = []\n",
    "unknown_by_yr = []\n",
    "\n",
    "len(author_df[ (author_df[\"author_gender\"] == 'F') & (author_df['Year']==2015) ])\n",
    "\n",
    "# Looping through years to find the number of male, female and unknown authors per year\n",
    "for year in years:\n",
    "    females_by_yr.append(len(author_df[(author_df[\"author_gender\"] == 'F') & (author_df['Year']==year)]))\n",
    "    males_by_yr.append(len(author_df[ (author_df[\"author_gender\"] == 'M') & (author_df['Year']==year)]))\n",
    "    unknown_by_yr.append(len(author_df[ (author_df[\"author_gender\"] == 'Unknown') & (author_df['Year']==year)]))\n",
    "\n",
    "\n",
    "# Printing out yearly values to examine changes over time\n",
    "data = np.array([males_by_yr, females_by_yr, unknown_by_yr])\n",
    "headers=['males', 'females', 'unknowns']\n",
    "pd.DataFrame(data, headers, years)\n",
    "print(data)\n"
   ]
  },
  {
   "cell_type": "markdown",
   "metadata": {
    "dc": {
     "key": "45"
    },
    "deletable": false,
    "editable": false,
    "run_control": {
     "frozen": true
    },
    "tags": [
     "context"
    ]
   },
   "source": [
    "## 7. Foreign-born authors?\n",
    "<p>Our gender data comes from social security applications of individuals born in the US. Hence, one possible explanation for why there are \"unknown\" genders associated with some author names is because these authors were foreign-born. While making this assumption, we should note that these are only a subset of foreign-born authors as others will have names that have a match in <code>baby_df</code> (and in the social security dataset). </p>\n",
    "<p>Using a bar chart, let's explore the trend of foreign-born authors with no name matches in the social security dataset.</p>"
   ]
  },
  {
   "cell_type": "code",
   "execution_count": 9,
   "metadata": {
    "collapsed": false,
    "dc": {
     "key": "45"
    },
    "tags": [
     "sample_code"
    ]
   },
   "outputs": [
    {
     "data": {
      "text/plain": [
       "<matplotlib.text.Text at 0x25e38709390>"
      ]
     },
     "execution_count": 9,
     "metadata": {},
     "output_type": "execute_result"
    },
    {
     "data": {
      "image/png": "[encoded data removed]",
      "text/plain": [
       "<matplotlib.figure.Figure at 0x25e35bbc550>"
      ]
     },
     "metadata": {},
     "output_type": "display_data"
    }
   ],
   "source": [
    "# Importing matplotlib\n",
    "import matplotlib.pyplot as plt\n",
    "\n",
    "# This makes plots appear in the notebook\n",
    "%matplotlib inline\n",
    "\n",
    "# Plotting the bar chart\n",
    "plt.bar(years,unknown_by_yr)\n",
    "\n",
    "plt.title(\"Foreign-born Authors\",fontsize=15)\n"
   ]
  },
  {
   "cell_type": "markdown",
   "metadata": {
    "dc": {
     "key": "52"
    },
    "deletable": false,
    "editable": false,
    "run_control": {
     "frozen": true
    },
    "tags": [
     "context"
    ]
   },
   "source": [
    "## 8. Grouped bar chart to look at the distribution of male and female authors over time.\n"
   ]
  },
  {
   "cell_type": "code",
   "execution_count": 8,
   "metadata": {
    "collapsed": false,
    "dc": {
     "key": "52"
    },
    "tags": [
     "sample_code"
    ]
   },
   "outputs": [
    {
     "data": {
      "text/plain": [
       "<matplotlib.text.Text at 0x25e38524cc0>"
      ]
     },
     "execution_count": 8,
     "metadata": {},
     "output_type": "execute_result"
    },
    {
     "data": {
      "image/png": "[encoded data removed]",
      "text/plain": [
       "<matplotlib.figure.Figure at 0x25e3859a940>"
      ]
     },
     "metadata": {},
     "output_type": "display_data"
    }
   ],
   "source": [
    "# Creating a new list, where 0.25 is added to each year\n",
    "years_shifted = list(np.array(years)+0.25)\n",
    "\n",
    "\n",
    "# Plotting males_by_yr by year\n",
    "plt.bar(years,males_by_yr,width=0.25,color='lightblue')\n",
    "\n",
    "# Plotting females_by_yr by years_shifted\n",
    "plt.bar(years_shifted,females_by_yr,width=0.25,color='pink')\n",
    "\n",
    "#Adding relevant Axes labels and Chart Title\n",
    "plt.ylabel(\"Males and Females By year\",fontsize=15, labelpad=20)\n",
    "plt.xlabel(\"Years\",fontsize=15, labelpad=20)"
   ]
  }
 ],
 "metadata": {
  "kernelspec": {
   "display_name": "Python 3",
   "language": "python",
   "name": "python3"
  },
  "language_info": {
   "codemirror_mode": {
    "name": "ipython",
    "version": 3
   },
   "file_extension": ".py",
   "mimetype": "text/x-python",
   "name": "python",
   "nbconvert_exporter": "python",
   "pygments_lexer": "ipython3",
   "version": "3.6.0"
  }
 },
 "nbformat": 4,
 "nbformat_minor": 2
}
